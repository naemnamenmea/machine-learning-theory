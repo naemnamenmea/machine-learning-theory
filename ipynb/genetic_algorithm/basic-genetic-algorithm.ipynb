{
 "cells": [
  {
   "cell_type": "markdown",
   "metadata": {
    "_uuid": "313edd5de62b15e97bb02467062f589d23e5a61b"
   },
   "source": [
    "## Базовый генетический алгоритм"
   ]
  },
  {
   "cell_type": "markdown",
   "metadata": {
    "_uuid": "9b6a30ea964ad410e3f3e4652725df403cd76cd7"
   },
   "source": [
    "Наша цель - создать простую программу, которая берет начальную случайную популяцию людей, смешивает и мутирует их и возвращает оптимального человека.\n",
    "\n",
    "Индивиды здесь представляют собой векторы состоящие из 0 или 1, а показатель пригодности индивида - это просто сумма его компонент. Этапы процесса следующие:\n",
    "\n",
    "1) создать случайную популяцию\n",
    "\n",
    "2) отранжировать ее в порядке пригодности\n",
    "\n",
    "3) «развести» лучших личностей\n",
    "\n",
    "4) случайным образом видоизменить некоторых людей\n",
    "\n",
    "5) повторять шаги 2-4, пока не будет преодолен определенный порог\n",
    "\n",
    "6) вернуть сильнейшего человека (в идеале вектор со всеми 1 и без 0)"
   ]
  },
  {
   "cell_type": "code",
   "execution_count": 1,
   "metadata": {
    "_uuid": "056cfc4d922589c97f0084bfb7f40df363fa191b"
   },
   "outputs": [],
   "source": [
    "import numpy as np"
   ]
  },
  {
   "cell_type": "code",
   "execution_count": 2,
   "metadata": {
    "_uuid": "5fe3fdf6de0aae660cb241a255b050f6435a0c05"
   },
   "outputs": [
    {
     "name": "stdout",
     "output_type": "stream",
     "text": [
      "15\n"
     ]
    }
   ],
   "source": [
    "# длина вектора индивида\n",
    "size = 30\n",
    "\n",
    "# это размер племенного фонда и используется для генерации популяции\n",
    "n=5\n",
    "\n",
    "pop_size= sum(range(n+1))\n",
    "print(pop_size)"
   ]
  },
  {
   "cell_type": "code",
   "execution_count": 3,
   "metadata": {
    "_uuid": "d6b7bcc70f90356b2b9941f4b7d880c00c505d77"
   },
   "outputs": [],
   "source": [
    "# оценивает приспособленность населения\n",
    "\n",
    "def eval_fit(pop):\n",
    "    fit_vals = []\n",
    "    for i in range(len(pop)):\n",
    "        fit_vals.append(np.sum(pop[i]))\n",
    "        \n",
    "    return np.array(fit_vals)\n",
    "        "
   ]
  },
  {
   "cell_type": "code",
   "execution_count": 4,
   "metadata": {
    "_uuid": "c1088486e9605877cae41c95cfd26f0c567e04b8"
   },
   "outputs": [],
   "source": [
    "# численность населения\n",
    "\n",
    "def rank_pop(pop):\n",
    "    ranked =  [ pop[i] for i in np.argsort(-eval_fit(pop))]\n",
    "    return ranked"
   ]
  },
  {
   "cell_type": "code",
   "execution_count": 5,
   "metadata": {
    "_uuid": "c9ba9f4bd26c6a2173ee46420808cb092bf24940"
   },
   "outputs": [],
   "source": [
    "# скрещивание\n",
    "\n",
    "def cross_pop(pop):\n",
    "    new_pop = []\n",
    "    for i in range(n):\n",
    "        for j in range(i,n):\n",
    "            x = np.random.randint(low=int(size/4),high=3*int(size/4)) # crossover point between 1/4 and 3/4\n",
    "            new_pop.append(np.concatenate([pop[i][:x],pop[j][x:]]))\n",
    "    return new_pop"
   ]
  },
  {
   "cell_type": "code",
   "execution_count": 6,
   "metadata": {
    "_uuid": "b235c0f4832eb8bb40efd519d31bbf15d71c089c"
   },
   "outputs": [],
   "source": [
    "# мутация\n",
    "\n",
    "def mut_pop(pop,k):       # 1/k is prob of mutating an individual\n",
    "    for i in range(len(pop)):\n",
    "        x = np.random.randint(0,k)\n",
    "        if(x==0):\n",
    "            y = np.random.randint(0,size)\n",
    "            pop[i][y] = (pop[i][y]+1) %2\n",
    "    return pop\n",
    "                   \n",
    "        "
   ]
  },
  {
   "cell_type": "code",
   "execution_count": 7,
   "metadata": {
    "_uuid": "dd2d9cb744987500f52b517987f39117fe8d588b"
   },
   "outputs": [
    {
     "name": "stdout",
     "output_type": "stream",
     "text": [
      "Generation: 0\n",
      "20 : 66.66666666666667%\n",
      "Generation: 1\n",
      "21 : 70.0%\n",
      "Generation: 2\n",
      "21 : 70.0%\n",
      "Generation: 3\n",
      "22 : 73.33333333333333%\n",
      "Generation: 4\n",
      "22 : 73.33333333333333%\n",
      "Generation: 5\n",
      "23 : 76.66666666666667%\n",
      "Generation: 6\n",
      "24 : 80.0%\n",
      "Generation: 7\n",
      "24 : 80.0%\n",
      "Generation: 8\n",
      "24 : 80.0%\n",
      "Generation: 9\n",
      "25 : 83.33333333333333%\n",
      "Generation: 10\n",
      "25 : 83.33333333333333%\n",
      "Generation: 11\n",
      "25 : 83.33333333333333%\n",
      "Generation: 12\n",
      "25 : 83.33333333333333%\n",
      "Generation: 13\n",
      "26 : 86.66666666666667%\n",
      "Generation: 14\n",
      "26 : 86.66666666666667%\n",
      "Generation: 15\n",
      "26 : 86.66666666666667%\n",
      "Generation: 16\n",
      "26 : 86.66666666666667%\n",
      "Generation: 17\n",
      "26 : 86.66666666666667%\n",
      "Generation: 18\n",
      "27 : 90.0%\n",
      "Generation: 19\n",
      "27 : 90.0%\n",
      "Generation: 20\n",
      "27 : 90.0%\n",
      "Generation: 21\n",
      "28 : 93.33333333333333%\n",
      "Generation: 22\n",
      "28 : 93.33333333333333%\n",
      "Generation: 23\n",
      "28 : 93.33333333333333%\n",
      "Generation: 24\n",
      "28 : 93.33333333333333%\n",
      "Generation: 25\n",
      "28 : 93.33333333333333%\n",
      "Generation: 26\n",
      "29 : 96.66666666666667%\n",
      "Generation: 27\n",
      "29 : 96.66666666666667%\n",
      "\n",
      "\n",
      "Completed at generation: 28\n",
      "Best fitness is: 100.0%\n",
      "Best individual is: \n"
     ]
    },
    {
     "data": {
      "text/plain": [
       "array([1, 1, 1, 1, 1, 1, 1, 1, 1, 1, 1, 1, 1, 1, 1, 1, 1, 1, 1, 1, 1, 1,\n",
       "       1, 1, 1, 1, 1, 1, 1, 1])"
      ]
     },
     "execution_count": 7,
     "metadata": {},
     "output_type": "execute_result"
    }
   ],
   "source": [
    "# создает население\n",
    "pop = []\n",
    "\n",
    "for i in range(pop_size):    \n",
    "    pop.append(np.random.randint(low=0,high=2, size=(size)))\n",
    "\n",
    "    \n",
    "# запускает алгоритм и находит оптимум\n",
    "m = 0\n",
    "mut_prob = 3   # вероятность мутации у индивида (1/mut_prob)\n",
    "best_fitn = np.amax(eval_fit(pop))\n",
    "\n",
    "while(best_fitn < size and m<100):\n",
    "        \n",
    "    pop = rank_pop(pop)\n",
    "    pop = cross_pop(pop)\n",
    "    pop = mut_pop(pop,mut_prob)\n",
    "    \n",
    "    print(\"Generation: \" + str(m))\n",
    "    print(str(best_fitn) + \" : \" + str(100*best_fitn/size) + \"%\")\n",
    "    #print(pop[0])\n",
    "\n",
    "    best_fitn = np.amax(eval_fit(pop))\n",
    "    m=m+1\n",
    "  \n",
    "print(\"\\n\")\n",
    "print(\"Completed at generation: \" + str(m))\n",
    "print(\"Best fitness is: \" + str(100*best_fitn/size) + \"%\")\n",
    "pop = rank_pop(pop)\n",
    "print(\"Best individual is: \")\n",
    "pop[0]\n"
   ]
  }
 ],
 "metadata": {
  "kernelspec": {
   "display_name": "Python 3",
   "language": "python",
   "name": "python3"
  },
  "language_info": {
   "codemirror_mode": {
    "name": "ipython",
    "version": 3
   },
   "file_extension": ".py",
   "mimetype": "text/x-python",
   "name": "python",
   "nbconvert_exporter": "python",
   "pygments_lexer": "ipython3",
   "version": "3.7.0"
  }
 },
 "nbformat": 4,
 "nbformat_minor": 1
}
