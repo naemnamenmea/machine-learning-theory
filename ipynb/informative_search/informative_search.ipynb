{
 "cells": [
  {
   "cell_type": "markdown",
   "metadata": {
    "collapsed": true
   },
   "source": [
    "# Разработка быстрой системы индексации и полнотекстового поиска с помощью Whoosh: библиотека Pure-Python\n",
    "\n",
    "<u> Постановка проблемы </u>. У вас есть 1 миллион текстовых файлов в каталоге, и ваше приложение должно обеспечить поиск текстовых запросов по всем файлам в течение нескольких секунд (скажем, ~ 1-2 секунды).\n",
    "\n",
    "## Введение: Whoosh\n",
    "\n",
    "Whoosh - быстрая, многофункциональная библиотека полнотекстового индексирования и поиска, реализованная на чистом Python. Программисты могут использовать его, чтобы легко добавлять функции поиска в свои приложения и веб-сайты.\n",
    "\n",
    "Пакет Whoosh pypi можно просто установить с помощью pip:\n",
    "\n",
    "```\n",
    "pip install Whoosh\n",
    "```\n",
    "\n",
    "Для примера, продемонстрированного в этом посте, вы можете загрузить набор данных из 70 000 текстовых файлов, взятых из простых вики-статей из [здесь](https://drive.google.com/file/d/1iKqQqrasxqDfTYwPyRjddxoUlPW602jv/view ).\n",
    "\n",
    "## Создание проиндексированных данных: Whoosh\n",
    "\n",
    "Все ваши текстовые файлы легко проиндексировать с помощью Whoosh. Первоначально должна быть определена схема индекса. Схема определяет список полей, которые будут проиндексированы или сохранены для каждого текстового файла. Это похоже на то, как мы определяем это для базы данных. Поле - это фрагмент информации для каждого документа в индексе, например его заголовок или текстовое содержимое. Индексирование поля означает, что его можно искать, и оно также возвращается с результатами, если оно определено в схеме как аргумент (сохранен = True). Вам нужно создать схему только один раз при создании индекса.\n",
    "\n",
    "Наконец, все текстовые документы добавляются в средство записи индекса в цикле. Документы индексируются согласно схеме и должны быть добавлены согласно схеме. Ниже приведена реализация Python для индексации всех текстовых документов каталога."
   ]
  },
  {
   "cell_type": "code",
   "execution_count": 1,
   "metadata": {},
   "outputs": [],
   "source": [
    "import os\n",
    "from whoosh.index import create_in\n",
    "from whoosh.fields import Schema, TEXT, ID\n",
    "import sys\n",
    " \n",
    "def createSearchableData(root):   \n",
    " \n",
    "    '''\n",
    "    Schema definition: title(name of file), path(as ID), content(indexed\n",
    "    but not stored),textdata (stored text content)\n",
    "    '''\n",
    "    schema = Schema(title=TEXT(stored=True),path=ID(stored=True),\\\n",
    "              content=TEXT,textdata=TEXT(stored=True))\n",
    "    if not os.path.exists(\"indexdir\"):\n",
    "        os.mkdir(\"indexdir\")\n",
    " \n",
    "    # Creating a index writer to add document as per schema\n",
    "    ix = create_in(\"indexdir\",schema)\n",
    "    writer = ix.writer()\n",
    " \n",
    "    filepaths = [os.path.join(root,i) for i in os.listdir(root)]\n",
    "    for path in filepaths:\n",
    "        fp = open(path,'r')\n",
    "        text = fp.read()\n",
    "        writer.add_document(title=path.split(\"\\\\\")[1], path=path,\\\n",
    "          content=text,textdata=text)\n",
    "        fp.close()\n",
    "    writer.commit()\n",
    " \n",
    "root = \"corpus\"\n",
    "createSearchableData(root)"
   ]
  },
  {
   "cell_type": "markdown",
   "metadata": {},
   "source": [
    "## Запросы к индексированным данным\n",
    "\n",
    "Запросы к индексированным данным состоят из двух важных частей:\n",
    "\n",
    "<u> <b> Строка запроса </b> </u>: она передается при поиске в индексированных данных. Строка запроса может представлять собой одно слово, одно предложение, которое должно быть точно сопоставлено, несколько слов с «И», несколько слов с «ИЛИ» и т.д. Например:\n",
    "\n",
    "* Запрос: политика (возвращает результат, если слово встречается)\n",
    "\n",
    "* Запрос: спорт ИЛИ игры ИЛИ играть (возвращает результат, если какая-либо из строк встречается)\n",
    "\n",
    "* Запрос: альфа-бета-гамма (возвращает результат, если документ содержит все строки)\n",
    "\n",
    "* Запрос: «альфа-бета-гамма» (возвращает результат, если все строки встречаются вместе в документе).\n",
    "\n",
    "<u> <b> Оценка </b> </u>. Каждый документ ранжируется в соответствии с функцией оценки. Существует довольно много типов функций оценки, которые поддерживает Whoosh:\n",
    "\n",
    "<ol>\n",
    "    <li>\n",
    "        <i><b>Частота</b></i>: он просто возвращает количество терминов, встречающихся в документе. Он не выполняет никакой нормализации или взвешивания.\n",
    "    </li><li>\n",
    "    <i><b>Оценка Tf-Idf</b></i>: возвращает оценку tf * idf каждого документа.\n",
    "    </li><li>\n",
    "    <i><b>Оценка BM25F</b></i>: это функция ранжирования по умолчанию, используемая Whoosh. BM отвечает за лучшее соответствие. Он основан на tf-idf вместе с множеством факторов, таких как длина документа в словах, средняя длина документов в коллекции. Он также имеет свободные параметры k = 1.2 и b = 0.75.\n",
    "    </li><li>\n",
    "    <i><b>Косинусная оценка</b></i>: это полезно для поиска документа, похожего на ваш поисковый запрос.\n",
    "    </li>\n",
    "</ol>\n",
    "\n",
    "Есть и [другие](https://github.com/jerem/Whoosh/blob/master/src/whoosh/scoring.py) оценки. \n",
    "\n",
    "Ниже приведена реализация Python для поиска запроса в индексированной базе данных:"
   ]
  },
  {
   "cell_type": "code",
   "execution_count": 2,
   "metadata": {},
   "outputs": [
    {
     "name": "stdout",
     "output_type": "stream",
     "text": [
      "Топ 0/0:\n",
      "\n"
     ]
    }
   ],
   "source": [
    "from whoosh.qparser import QueryParser\n",
    "from whoosh import scoring\n",
    "from whoosh.index import open_dir\n",
    " \n",
    "ix = open_dir(\"indexdir\")\n",
    " \n",
    "# query_str is query string\n",
    "# query_str = sys.argv[1]\n",
    "query_str = \"hello world\"\n",
    "# Top 'n' documents as result\n",
    "# topN = int(sys.argv[2])\n",
    "topN = 10\n",
    " \n",
    "with ix.searcher(weighting=scoring.Frequency) as searcher:\n",
    "    query = QueryParser(\"content\", ix.schema).parse(query_str)\n",
    "    results = searcher.search(query,limit=topN)\n",
    "    res_len = len(results)\n",
    "    real_top = min(topN,res_len)\n",
    "    print('Топ {:d}/{:d}:\\n'.format(real_top,res_len))\n",
    "    for i in range(real_top):\n",
    "        # print(results[i]['title'], str(results[i].score), results[i]['textdata'])\n",
    "        print('{:>9} {:4.1f}'.format(results[i]['title'], results[i].score))"
   ]
  },
  {
   "cell_type": "markdown",
   "metadata": {},
   "source": [
    "## Глоссарий\n",
    "\n",
    "Whoosh [документация](https://whoosh.readthedocs.io/en/latest/glossary.html)."
   ]
  },
  {
   "cell_type": "markdown",
   "metadata": {},
   "source": [
    "## Примеры запросов\n",
    "\n",
    "\n",
    "![](images/capture1.png)\n",
    "![](images/capture2.png)\n",
    "![](images/capture3.png)"
   ]
  }
 ],
 "metadata": {
  "kernelspec": {
   "display_name": "Python 3",
   "language": "python",
   "name": "python3"
  },
  "language_info": {
   "codemirror_mode": {
    "name": "ipython",
    "version": 3
   },
   "file_extension": ".py",
   "mimetype": "text/x-python",
   "name": "python",
   "nbconvert_exporter": "python",
   "pygments_lexer": "ipython3",
   "version": "3.7.0"
  }
 },
 "nbformat": 4,
 "nbformat_minor": 1
}
